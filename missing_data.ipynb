{
 "cells": [
  {
   "cell_type": "code",
   "execution_count": 1,
   "metadata": {},
   "outputs": [],
   "source": [
    "import pandas as pd\n",
    "import seaborn as sns\n",
    "import matplotlib.pyplot as plt\n",
    "import numpy as np"
   ]
  },
  {
   "cell_type": "code",
   "execution_count": 2,
   "metadata": {},
   "outputs": [
    {
     "data": {
      "text/plain": [
       "PassengerId      0\n",
       "Survived         0\n",
       "Pclass           0\n",
       "Name             0\n",
       "Sex              0\n",
       "Age            177\n",
       "SibSp            0\n",
       "Parch            0\n",
       "Ticket           0\n",
       "Fare             0\n",
       "Cabin          687\n",
       "Embarked         2\n",
       "dtype: int64"
      ]
     },
     "execution_count": 2,
     "metadata": {},
     "output_type": "execute_result"
    }
   ],
   "source": [
    "# 讀取數據\n",
    "df = pd.read_csv(r\"C:\\Users\\brigh\\train.csv\")\n",
    "#找出含有缺失值的特徵並計算數量\n",
    "df.isnull().sum()"
   ]
  },
  {
   "cell_type": "code",
   "execution_count": 3,
   "metadata": {},
   "outputs": [],
   "source": [
    "#處理Embarked缺失值 \n",
    "#刪除缺失值 \n",
    "#Embarked缺失值數量最少，可直接以刪除方式處理\n",
    "df=df.dropna(subset=[\"Embarked\"]) #subset參數裡面放要刪除缺失值的特徵"
   ]
  },
  {
   "cell_type": "code",
   "execution_count": 4,
   "metadata": {},
   "outputs": [],
   "source": [
    "#處理Cabin缺失值 #查看Cabin的資料類型分布\n",
    "df['Cabin'].unique() #可以得知類型很多(每個都不一樣) (船艙號碼)\n",
    "#給定一個值\"No_Cabin\"代表缺失船艙號碼的乘客來進行補值\n",
    "df['Cabin']=df['Cabin'].fillna(\"No_Cabin\")"
   ]
  },
  {
   "cell_type": "code",
   "execution_count": 5,
   "metadata": {},
   "outputs": [],
   "source": [
    "# #將缺失值視覺化成表格\n",
    "# def Missing_Counts( Data, NoMissing=True ) : \n",
    "#     missing = Data.isnull().sum()  \n",
    "    \n",
    "#     if NoMissing==False :\n",
    "#         missing = missing[ missing>0 ]\n",
    "        \n",
    "#     missing.sort_values( ascending=False, inplace=True )  \n",
    "#     Missing_Count = pd.DataFrame( { 'Column Name':missing.index, 'Missing Count':missing.values } ) \n",
    "#     Missing_Count[ 'Percentage(%)' ] = Missing_Count['Missing Count'].apply( lambda x: '{:.2%}'.format(x/Data.shape[0] ))\n",
    "#     return  Missing_Count\n",
    "\n",
    "# Missing_Counts(df)"
   ]
  },
  {
   "cell_type": "code",
   "execution_count": 6,
   "metadata": {},
   "outputs": [],
   "source": [
    "#處理Age缺失值 \n",
    "#年齡會受其他變數的影響，例如年紀較小的人可能會有家長陪同(Parch)，逃生時可能會優先，存活機率也相對大。\n",
    "#因此我們需要比對其他變數對年齡的影響來做補值。\n",
    "\n",
    "#利用箱形圖查看Age與Sex的關係\n",
    "#sns.catplot(x=\"Sex\", y=\"Age\", data=df, kind=\"box\", height=2.5, aspect=.8)\n",
    "#或是\n",
    "# plt.figure(figsize=(5, 6))\n",
    "# sns.boxplot(x=df['Sex'], y=df['Age'])\n",
    "# plt.title('Box Plot of Sex-age')\n",
    "# plt.xlabel('Sex')\n",
    "# plt.ylabel('Age')\n",
    "#可發現不論男女在各年齡層都有族群存在，Sex不太能做為補值參考\n",
    "\n",
    "#觀察Age缺失值在船艙等級(Pclass)的分布 #利用計數圖\n",
    "#hue參數，用來為不同類別著色。df[\"Age\"].isnull() 會生成一個布林值(TorF)，表示Age列中的每個值是否為缺失值（NaN）。\n",
    "#如果Age值為缺失值，則為 True，否則為False。\n",
    "# df[\"Age_is_null\"] = df['Age'].isnull()\n",
    "# sns.countplot(x=df[\"Pclass\"], hue=df[\"Age_is_null\"], data=df) #發現大部分的缺失狀況都是出現在3等艙中"
   ]
  },
  {
   "cell_type": "code",
   "execution_count": 7,
   "metadata": {},
   "outputs": [
    {
     "data": {
      "text/plain": [
       "<Axes: xlabel='Age', ylabel='Count'>"
      ]
     },
     "execution_count": 7,
     "metadata": {},
     "output_type": "execute_result"
    },
    {
     "data": {
      "image/png": "[encoded data removed]",
      "text/plain": [
       "<Figure size 640x480 with 1 Axes>"
      ]
     },
     "metadata": {},
     "output_type": "display_data"
    }
   ],
   "source": [
    "index_survived = (df[\"Age\"].isnull()==False)&(df[\"Survived\"]==1) #存活者且年齡非空白\n",
    "index_died = (df[\"Age\"].isnull()==False)&(df[\"Survived\"]==0) #死亡者且年齡非空白\n",
    "\n",
    "sns.histplot( df.loc[index_survived ,'Age'], bins=20, color='blue', label='Survived' ) #存活者且有年齡標示的以藍色顯示\n",
    "sns.histplot( df.loc[index_died ,'Age'], bins=20, color='red', label='Survived' ) #死亡者且有年齡標示以紅色顯示"
   ]
  },
  {
   "cell_type": "code",
   "execution_count": 8,
   "metadata": {},
   "outputs": [
    {
     "data": {
      "text/plain": [
       "array([' Mr', ' Mrs', ' Miss', ' Master', ' Don', ' Rev', ' Dr', ' Mme',\n",
       "       ' Ms', ' Major', ' Lady', ' Sir', ' Mlle', ' Col', ' Capt',\n",
       "       ' the Countess', ' Jonkheer'], dtype=object)"
      ]
     },
     "execution_count": 8,
     "metadata": {},
     "output_type": "execute_result"
    }
   ],
   "source": [
    "#外國人的稱謂和職業、年紀多少會有點關係，因此我們先處理Name這個欄位，將姓氏取出，命名為新的特徵\"Title\" \n",
    "#example: Braund, Mr. Owen Harris\n",
    "df['Title'] = df.Name.str.split(',', expand=True)[1] #以逗號為主進行spilt，拆分後資料格式仍維持dataframe(expand)，取拆分後之後面那個部分(Mr. Owen Harris)\n",
    "df['Title'] = df.Title.str.split('.', expand=True)[0] #與上行做法相同，但此次是以.作為拆分依據，取前面的部分(Mr)\n",
    "df['Title'].unique()"
   ]
  },
  {
   "cell_type": "code",
   "execution_count": 9,
   "metadata": {},
   "outputs": [
    {
     "data": {
      "text/html": [
       "<div>\n",
       "<style scoped>\n",
       "    .dataframe tbody tr th:only-of-type {\n",
       "        vertical-align: middle;\n",
       "    }\n",
       "\n",
       "    .dataframe tbody tr th {\n",
       "        vertical-align: top;\n",
       "    }\n",
       "\n",
       "    .dataframe thead th {\n",
       "        text-align: right;\n",
       "    }\n",
       "</style>\n",
       "<table border=\"1\" class=\"dataframe\">\n",
       "  <thead>\n",
       "    <tr style=\"text-align: right;\">\n",
       "      <th></th>\n",
       "      <th>Title</th>\n",
       "      <th>Age_Mean</th>\n",
       "    </tr>\n",
       "  </thead>\n",
       "  <tbody>\n",
       "    <tr>\n",
       "      <th>0</th>\n",
       "      <td>Capt</td>\n",
       "      <td>70.000000</td>\n",
       "    </tr>\n",
       "    <tr>\n",
       "      <th>1</th>\n",
       "      <td>Col</td>\n",
       "      <td>58.000000</td>\n",
       "    </tr>\n",
       "    <tr>\n",
       "      <th>2</th>\n",
       "      <td>Don</td>\n",
       "      <td>40.000000</td>\n",
       "    </tr>\n",
       "    <tr>\n",
       "      <th>3</th>\n",
       "      <td>Dr</td>\n",
       "      <td>42.000000</td>\n",
       "    </tr>\n",
       "    <tr>\n",
       "      <th>4</th>\n",
       "      <td>Jonkheer</td>\n",
       "      <td>38.000000</td>\n",
       "    </tr>\n",
       "    <tr>\n",
       "      <th>5</th>\n",
       "      <td>Lady</td>\n",
       "      <td>48.000000</td>\n",
       "    </tr>\n",
       "    <tr>\n",
       "      <th>6</th>\n",
       "      <td>Major</td>\n",
       "      <td>48.500000</td>\n",
       "    </tr>\n",
       "    <tr>\n",
       "      <th>7</th>\n",
       "      <td>Master</td>\n",
       "      <td>4.574167</td>\n",
       "    </tr>\n",
       "    <tr>\n",
       "      <th>8</th>\n",
       "      <td>Miss</td>\n",
       "      <td>21.662069</td>\n",
       "    </tr>\n",
       "    <tr>\n",
       "      <th>9</th>\n",
       "      <td>Mlle</td>\n",
       "      <td>24.000000</td>\n",
       "    </tr>\n",
       "    <tr>\n",
       "      <th>10</th>\n",
       "      <td>Mme</td>\n",
       "      <td>24.000000</td>\n",
       "    </tr>\n",
       "    <tr>\n",
       "      <th>11</th>\n",
       "      <td>Mr</td>\n",
       "      <td>32.368090</td>\n",
       "    </tr>\n",
       "    <tr>\n",
       "      <th>12</th>\n",
       "      <td>Mrs</td>\n",
       "      <td>35.654206</td>\n",
       "    </tr>\n",
       "    <tr>\n",
       "      <th>13</th>\n",
       "      <td>Ms</td>\n",
       "      <td>28.000000</td>\n",
       "    </tr>\n",
       "    <tr>\n",
       "      <th>14</th>\n",
       "      <td>Rev</td>\n",
       "      <td>43.166667</td>\n",
       "    </tr>\n",
       "    <tr>\n",
       "      <th>15</th>\n",
       "      <td>Sir</td>\n",
       "      <td>49.000000</td>\n",
       "    </tr>\n",
       "    <tr>\n",
       "      <th>16</th>\n",
       "      <td>the Countess</td>\n",
       "      <td>33.000000</td>\n",
       "    </tr>\n",
       "  </tbody>\n",
       "</table>\n",
       "</div>"
      ],
      "text/plain": [
       "            Title   Age_Mean\n",
       "0            Capt  70.000000\n",
       "1             Col  58.000000\n",
       "2             Don  40.000000\n",
       "3              Dr  42.000000\n",
       "4        Jonkheer  38.000000\n",
       "5            Lady  48.000000\n",
       "6           Major  48.500000\n",
       "7          Master   4.574167\n",
       "8            Miss  21.662069\n",
       "9            Mlle  24.000000\n",
       "10            Mme  24.000000\n",
       "11             Mr  32.368090\n",
       "12            Mrs  35.654206\n",
       "13             Ms  28.000000\n",
       "14            Rev  43.166667\n",
       "15            Sir  49.000000\n",
       "16   the Countess  33.000000"
      ]
     },
     "metadata": {},
     "output_type": "display_data"
    }
   ],
   "source": [
    "#計算每個Title的年齡平均\n",
    "Age_Mean = df[['Title','Age']].groupby( by=['Title'] ).mean()\n",
    "\n",
    "Age_Mean.columns = ['Age_Mean'] #將計算出的平均年齡列重命名為 Age_Mean\n",
    "Age_Mean.reset_index( inplace=True ) #重置索引，使 Title 成為 DataFrame 的一列，而不是索引。\n",
    "#inplace=True 表示在原 DataFrame 上進行操作，而不是返回一個新的 DataFrame。\n",
    "\n",
    "display( Age_Mean )"
   ]
  },
  {
   "cell_type": "code",
   "execution_count": 10,
   "metadata": {},
   "outputs": [],
   "source": [
    "train_df=df.reset_index() #重整索引(index)\n",
    "train_df[\"Age\"].isnull()\n",
    "for i in range(len(train_df[\"Age\"].isnull())):\n",
    "    if train_df[\"Age\"].isnull()[i]==True:\n",
    "        for j in range(len(Age_Mean.Title)):\n",
    "            if train_df[\"Title\"][i]==Age_Mean.Title[j]:\n",
    "                train_df[\"Age\"][i]=Age_Mean.Age_Mean[j]"
   ]
  },
  {
   "cell_type": "code",
   "execution_count": 11,
   "metadata": {},
   "outputs": [
    {
     "data": {
      "text/plain": [
       "index          0\n",
       "PassengerId    0\n",
       "Survived       0\n",
       "Pclass         0\n",
       "Name           0\n",
       "Sex            0\n",
       "Age            0\n",
       "SibSp          0\n",
       "Parch          0\n",
       "Ticket         0\n",
       "Fare           0\n",
       "Cabin          0\n",
       "Embarked       0\n",
       "Title          0\n",
       "dtype: int64"
      ]
     },
     "execution_count": 11,
     "metadata": {},
     "output_type": "execute_result"
    }
   ],
   "source": [
    "train_df.isnull().sum()"
   ]
  }
 ],
 "metadata": {
  "kernelspec": {
   "display_name": "Python 3",
   "language": "python",
   "name": "python3"
  },
  "language_info": {
   "codemirror_mode": {
    "name": "ipython",
    "version": 3
   },
   "file_extension": ".py",
   "mimetype": "text/x-python",
   "name": "python",
   "nbconvert_exporter": "python",
   "pygments_lexer": "ipython3",
   "version": "3.8.10"
  }
 },
 "nbformat": 4,
 "nbformat_minor": 2
}
